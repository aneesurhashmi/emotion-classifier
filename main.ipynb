{
 "cells": [
  {
   "cell_type": "markdown",
   "metadata": {},
   "source": [
    "# Emoji expression"
   ]
  },
  {
   "cell_type": "code",
   "execution_count": 1,
   "metadata": {},
   "outputs": [],
   "source": [
    "import numpy as np\n",
    "import cv2\n",
    "from tensorflow.keras import Sequential\n",
    "from tensorflow.keras.layers import Dense, Dropout, Flatten\n",
    "from tensorflow.keras.layers import Conv2D\n",
    "from tensorflow.keras.optimizers import Adam\n",
    "from tensorflow.keras.layers import MaxPooling2D\n",
    "# for data augmentation \n",
    "from tensorflow.keras.preprocessing.image import ImageDataGenerator"
   ]
  },
  {
   "cell_type": "markdown",
   "metadata": {},
   "source": [
    "## Data preprocessing, augmentation"
   ]
  },
  {
   "cell_type": "code",
   "execution_count": 2,
   "metadata": {},
   "outputs": [
    {
     "name": "stdout",
     "output_type": "stream",
     "text": [
      "Found 28709 images belonging to 7 classes.\n",
      "Found 7178 images belonging to 7 classes.\n"
     ]
    }
   ],
   "source": [
    "train_dir = 'data/train'\n",
    "val_dir = 'data/test'\n",
    "\n",
    "# apply data augmentation\n",
    "# scaling factor -> 0-255 to 0-1 pixel values in array\n",
    "train_datagen = ImageDataGenerator(rescale=1./255)\n",
    "val_datagen = ImageDataGenerator(rescale=1./255)\n",
    "\n",
    "train_generator = train_datagen.flow_from_directory(\n",
    "        train_dir,\n",
    "        target_size=(48,48), # image size\n",
    "        batch_size=64,\n",
    "        color_mode=\"grayscale\", \n",
    "        class_mode='categorical' # type of label array return\n",
    ")\n",
    "\n",
    "validation_generator = val_datagen.flow_from_directory(\n",
    "        val_dir,\n",
    "        target_size=(48,48),\n",
    "        batch_size=64,\n",
    "        color_mode=\"grayscale\",\n",
    "        class_mode='categorical')"
   ]
  },
  {
   "cell_type": "markdown",
   "metadata": {},
   "source": [
    "## CNN"
   ]
  },
  {
   "cell_type": "code",
   "execution_count": 3,
   "metadata": {},
   "outputs": [],
   "source": [
    "emotion_model = Sequential()\n",
    "# cnn \n",
    "emotion_model.add(Conv2D(32, kernel_size=(3, 3), activation='relu', input_shape=(48,48,1)))\n",
    "emotion_model.add(Conv2D(64, kernel_size=(3, 3), activation='relu'))\n",
    "emotion_model.add(MaxPooling2D(pool_size=(2, 2)))\n",
    "emotion_model.add(Dropout(0.25))\n",
    "\n",
    "emotion_model.add(Conv2D(128, kernel_size=(3, 3), activation='relu'))\n",
    "emotion_model.add(MaxPooling2D(pool_size=(2, 2)))\n",
    "emotion_model.add(Conv2D(128, kernel_size=(3, 3), activation='relu'))\n",
    "emotion_model.add(MaxPooling2D(pool_size=(2, 2)))\n",
    "emotion_model.add(Dropout(0.25))\n",
    "\n",
    "# attached ann layer (flat)\n",
    "emotion_model.add(Flatten())\n",
    "emotion_model.add(Dense(1024, activation='relu'))\n",
    "emotion_model.add(Dropout(0.5))\n",
    "# seven emotions in datasets\n",
    "emotion_model.add(Dense(7, activation='softmax'))"
   ]
  },
  {
   "cell_type": "markdown",
   "metadata": {},
   "source": [
    "## Load weights (If trained)"
   ]
  },
  {
   "cell_type": "code",
   "execution_count": 4,
   "metadata": {},
   "outputs": [],
   "source": [
    "emotion_model.load_weights(\"model.h5\")"
   ]
  },
  {
   "cell_type": "markdown",
   "metadata": {},
   "source": [
    "## Training"
   ]
  },
  {
   "cell_type": "code",
   "execution_count": 25,
   "metadata": {},
   "outputs": [
    {
     "name": "stdout",
     "output_type": "stream",
     "text": [
      "WARNING:tensorflow:From <ipython-input-25-97fdafecbc89>:9: Model.fit_generator (from tensorflow.python.keras.engine.training) is deprecated and will be removed in a future version.\n",
      "Instructions for updating:\n",
      "Please use Model.fit, which supports generators.\n",
      "Epoch 1/50\n",
      "448/448 [==============================] - 396s 884ms/step - loss: 1.7588 - accuracy: 0.2816 - val_loss: 1.6157 - val_accuracy: 0.3662\n",
      "Epoch 2/50\n",
      "448/448 [==============================] - 294s 656ms/step - loss: 1.5105 - accuracy: 0.4147 - val_loss: 1.3579 - val_accuracy: 0.4796\n",
      "Epoch 3/50\n",
      "448/448 [==============================] - 351s 784ms/step - loss: 1.3413 - accuracy: 0.4850 - val_loss: 1.2689 - val_accuracy: 0.5146\n",
      "Epoch 4/50\n",
      "448/448 [==============================] - 284s 634ms/step - loss: 1.2552 - accuracy: 0.5179 - val_loss: 1.2032 - val_accuracy: 0.5332\n",
      "Epoch 5/50\n",
      "448/448 [==============================] - 275s 614ms/step - loss: 1.1945 - accuracy: 0.5440 - val_loss: 1.1513 - val_accuracy: 0.5607\n",
      "Epoch 6/50\n",
      "448/448 [==============================] - 265s 591ms/step - loss: 1.1518 - accuracy: 0.5677 - val_loss: 1.1280 - val_accuracy: 0.5649\n",
      "Epoch 7/50\n",
      "448/448 [==============================] - 277s 619ms/step - loss: 1.1065 - accuracy: 0.5793 - val_loss: 1.1408 - val_accuracy: 0.5661\n",
      "Epoch 8/50\n",
      "448/448 [==============================] - 241s 538ms/step - loss: 1.0766 - accuracy: 0.5921 - val_loss: 1.0965 - val_accuracy: 0.5845\n",
      "Epoch 9/50\n",
      "448/448 [==============================] - 241s 538ms/step - loss: 1.0356 - accuracy: 0.6116 - val_loss: 1.0811 - val_accuracy: 0.5947\n",
      "Epoch 10/50\n",
      "448/448 [==============================] - 241s 537ms/step - loss: 1.0053 - accuracy: 0.6174 - val_loss: 1.0770 - val_accuracy: 0.5960\n",
      "Epoch 11/50\n",
      "448/448 [==============================] - 241s 538ms/step - loss: 0.9774 - accuracy: 0.6299 - val_loss: 1.0830 - val_accuracy: 0.5901\n",
      "Epoch 12/50\n",
      "448/448 [==============================] - 241s 538ms/step - loss: 0.9474 - accuracy: 0.6460 - val_loss: 1.0724 - val_accuracy: 0.5995\n",
      "Epoch 13/50\n",
      "448/448 [==============================] - 241s 538ms/step - loss: 0.9084 - accuracy: 0.6574 - val_loss: 1.0600 - val_accuracy: 0.6038\n",
      "Epoch 14/50\n",
      "448/448 [==============================] - 241s 538ms/step - loss: 0.8876 - accuracy: 0.6667 - val_loss: 1.0577 - val_accuracy: 0.6059\n",
      "Epoch 15/50\n",
      "448/448 [==============================] - 241s 537ms/step - loss: 0.8633 - accuracy: 0.6737 - val_loss: 1.0550 - val_accuracy: 0.6097\n",
      "Epoch 16/50\n",
      "448/448 [==============================] - 241s 537ms/step - loss: 0.8345 - accuracy: 0.6923 - val_loss: 1.0791 - val_accuracy: 0.6078\n",
      "Epoch 17/50\n",
      "448/448 [==============================] - 241s 538ms/step - loss: 0.8108 - accuracy: 0.6940 - val_loss: 1.0755 - val_accuracy: 0.6143\n",
      "Epoch 18/50\n",
      "448/448 [==============================] - 241s 538ms/step - loss: 0.7954 - accuracy: 0.7040 - val_loss: 1.0788 - val_accuracy: 0.6042\n",
      "Epoch 19/50\n",
      "448/448 [==============================] - 241s 537ms/step - loss: 0.7747 - accuracy: 0.7096 - val_loss: 1.0904 - val_accuracy: 0.6059\n",
      "Epoch 20/50\n",
      "448/448 [==============================] - 241s 539ms/step - loss: 0.7546 - accuracy: 0.7192 - val_loss: 1.0673 - val_accuracy: 0.6140\n",
      "Epoch 21/50\n",
      "448/448 [==============================] - 240s 536ms/step - loss: 0.7369 - accuracy: 0.7278 - val_loss: 1.0725 - val_accuracy: 0.6161\n",
      "Epoch 22/50\n",
      "448/448 [==============================] - 241s 537ms/step - loss: 0.7120 - accuracy: 0.7371 - val_loss: 1.0862 - val_accuracy: 0.6152\n",
      "Epoch 23/50\n",
      "448/448 [==============================] - 241s 538ms/step - loss: 0.6965 - accuracy: 0.7426 - val_loss: 1.0931 - val_accuracy: 0.6147\n",
      "Epoch 24/50\n",
      "448/448 [==============================] - 241s 538ms/step - loss: 0.6826 - accuracy: 0.7480 - val_loss: 1.1008 - val_accuracy: 0.6154\n",
      "Epoch 25/50\n",
      "448/448 [==============================] - 241s 538ms/step - loss: 0.6637 - accuracy: 0.7565 - val_loss: 1.1023 - val_accuracy: 0.6144\n",
      "Epoch 26/50\n",
      "448/448 [==============================] - 241s 537ms/step - loss: 0.6449 - accuracy: 0.7620 - val_loss: 1.1113 - val_accuracy: 0.6182\n",
      "Epoch 27/50\n",
      "448/448 [==============================] - 241s 537ms/step - loss: 0.6291 - accuracy: 0.7641 - val_loss: 1.1146 - val_accuracy: 0.6166\n",
      "Epoch 28/50\n",
      "448/448 [==============================] - 241s 537ms/step - loss: 0.6270 - accuracy: 0.7707 - val_loss: 1.1269 - val_accuracy: 0.6148\n",
      "Epoch 29/50\n",
      "448/448 [==============================] - 241s 538ms/step - loss: 0.6080 - accuracy: 0.7737 - val_loss: 1.1178 - val_accuracy: 0.6203\n",
      "Epoch 30/50\n",
      "448/448 [==============================] - 241s 537ms/step - loss: 0.5911 - accuracy: 0.7831 - val_loss: 1.1597 - val_accuracy: 0.6189\n",
      "Epoch 31/50\n",
      "448/448 [==============================] - 241s 537ms/step - loss: 0.5885 - accuracy: 0.7831 - val_loss: 1.1259 - val_accuracy: 0.6253\n",
      "Epoch 32/50\n",
      "448/448 [==============================] - 241s 537ms/step - loss: 0.5742 - accuracy: 0.7882 - val_loss: 1.1328 - val_accuracy: 0.6184\n",
      "Epoch 33/50\n",
      "448/448 [==============================] - 241s 538ms/step - loss: 0.5634 - accuracy: 0.7920 - val_loss: 1.1412 - val_accuracy: 0.6203\n",
      "Epoch 34/50\n",
      "448/448 [==============================] - 241s 537ms/step - loss: 0.5528 - accuracy: 0.7984 - val_loss: 1.1246 - val_accuracy: 0.6157\n",
      "Epoch 35/50\n",
      "448/448 [==============================] - 241s 538ms/step - loss: 0.5306 - accuracy: 0.8057 - val_loss: 1.1505 - val_accuracy: 0.6203\n",
      "Epoch 36/50\n",
      "448/448 [==============================] - 241s 537ms/step - loss: 0.5307 - accuracy: 0.8079 - val_loss: 1.1617 - val_accuracy: 0.6184\n",
      "Epoch 37/50\n",
      "448/448 [==============================] - 241s 539ms/step - loss: 0.5259 - accuracy: 0.8092 - val_loss: 1.1503 - val_accuracy: 0.6215\n",
      "Epoch 38/50\n",
      "448/448 [==============================] - 241s 538ms/step - loss: 0.5115 - accuracy: 0.8109 - val_loss: 1.1909 - val_accuracy: 0.6201\n",
      "Epoch 39/50\n",
      "448/448 [==============================] - 241s 538ms/step - loss: 0.5069 - accuracy: 0.8158 - val_loss: 1.2136 - val_accuracy: 0.6186\n",
      "Epoch 40/50\n",
      "448/448 [==============================] - 241s 537ms/step - loss: 0.5012 - accuracy: 0.8180 - val_loss: 1.2010 - val_accuracy: 0.6145\n",
      "Epoch 41/50\n",
      "448/448 [==============================] - 240s 537ms/step - loss: 0.4859 - accuracy: 0.8228 - val_loss: 1.2147 - val_accuracy: 0.6150\n",
      "Epoch 42/50\n",
      "448/448 [==============================] - 240s 536ms/step - loss: 0.4792 - accuracy: 0.8269 - val_loss: 1.2016 - val_accuracy: 0.6194\n",
      "Epoch 43/50\n",
      "448/448 [==============================] - 240s 536ms/step - loss: 0.4702 - accuracy: 0.8273 - val_loss: 1.1968 - val_accuracy: 0.6165\n",
      "Epoch 44/50\n",
      "448/448 [==============================] - 240s 536ms/step - loss: 0.4590 - accuracy: 0.8332 - val_loss: 1.2019 - val_accuracy: 0.6159\n",
      "Epoch 45/50\n",
      "448/448 [==============================] - 239s 533ms/step - loss: 0.4678 - accuracy: 0.8298 - val_loss: 1.2176 - val_accuracy: 0.6246\n",
      "Epoch 46/50\n",
      "448/448 [==============================] - 240s 535ms/step - loss: 0.4534 - accuracy: 0.8338 - val_loss: 1.2276 - val_accuracy: 0.6221\n",
      "Epoch 47/50\n",
      "448/448 [==============================] - 240s 536ms/step - loss: 0.4472 - accuracy: 0.8397 - val_loss: 1.2452 - val_accuracy: 0.6223\n",
      "Epoch 48/50\n",
      "448/448 [==============================] - 240s 536ms/step - loss: 0.4421 - accuracy: 0.8431 - val_loss: 1.1564 - val_accuracy: 0.6257\n",
      "Epoch 49/50\n",
      "448/448 [==============================] - 239s 533ms/step - loss: 0.4375 - accuracy: 0.8409 - val_loss: 1.1752 - val_accuracy: 0.6256\n",
      "Epoch 50/50\n",
      "448/448 [==============================] - 241s 538ms/step - loss: 0.4437 - accuracy: 0.8401 - val_loss: 1.1849 - val_accuracy: 0.6217\n"
     ]
    }
   ],
   "source": [
    "emotion_model.compile(\n",
    "    loss='categorical_crossentropy',\n",
    "    optimizer=\"Adam\",\n",
    "    metrics=['accuracy']\n",
    ")\n",
    "\n",
    "# fit_generator -> when dataset is large and cant fit in memory,\n",
    "# or applying data augmentation\n",
    "emotion_model_info = emotion_model.fit_generator(\n",
    "        train_generator,\n",
    "        steps_per_epoch=28709 // 64, # 28709 training images\n",
    "        epochs=50,\n",
    "        validation_data=validation_generator,\n",
    "        validation_steps=7178 // 64) # 7178 test/val images"
   ]
  },
  {
   "cell_type": "code",
   "execution_count": 27,
   "metadata": {},
   "outputs": [],
   "source": [
    "emotion_model.save_weights('model.h5')"
   ]
  },
  {
   "cell_type": "code",
   "execution_count": 5,
   "metadata": {},
   "outputs": [
    {
     "name": "stdout",
     "output_type": "stream",
     "text": [
      "Model: \"sequential\"\n",
      "_________________________________________________________________\n",
      "Layer (type)                 Output Shape              Param #   \n",
      "=================================================================\n",
      "conv2d (Conv2D)              (None, 46, 46, 32)        320       \n",
      "_________________________________________________________________\n",
      "conv2d_1 (Conv2D)            (None, 44, 44, 64)        18496     \n",
      "_________________________________________________________________\n",
      "max_pooling2d (MaxPooling2D) (None, 22, 22, 64)        0         \n",
      "_________________________________________________________________\n",
      "dropout (Dropout)            (None, 22, 22, 64)        0         \n",
      "_________________________________________________________________\n",
      "conv2d_2 (Conv2D)            (None, 20, 20, 128)       73856     \n",
      "_________________________________________________________________\n",
      "max_pooling2d_1 (MaxPooling2 (None, 10, 10, 128)       0         \n",
      "_________________________________________________________________\n",
      "conv2d_3 (Conv2D)            (None, 8, 8, 128)         147584    \n",
      "_________________________________________________________________\n",
      "max_pooling2d_2 (MaxPooling2 (None, 4, 4, 128)         0         \n",
      "_________________________________________________________________\n",
      "dropout_1 (Dropout)          (None, 4, 4, 128)         0         \n",
      "_________________________________________________________________\n",
      "flatten (Flatten)            (None, 2048)              0         \n",
      "_________________________________________________________________\n",
      "dense (Dense)                (None, 1024)              2098176   \n",
      "_________________________________________________________________\n",
      "dropout_2 (Dropout)          (None, 1024)              0         \n",
      "_________________________________________________________________\n",
      "dense_1 (Dense)              (None, 7)                 7175      \n",
      "=================================================================\n",
      "Total params: 2,345,607\n",
      "Trainable params: 2,345,607\n",
      "Non-trainable params: 0\n",
      "_________________________________________________________________\n"
     ]
    }
   ],
   "source": [
    "emotion_model.summary()\n"
   ]
  },
  {
   "cell_type": "markdown",
   "metadata": {},
   "source": [
    "## Video capture: OpenCV"
   ]
  },
  {
   "cell_type": "code",
   "execution_count": 13,
   "metadata": {},
   "outputs": [],
   "source": [
    "# cv2.ocl.setUseOpenCL(False)\n",
    "\n",
    "emotion_dict = {0: \"Angry\", 1: \"Disgusted\", 2: \"Fearful\", 3: \"Happy\", 4: \"Neutral\", 5: \"Sad\", 6: \"Surprised\"}\n",
    "\n",
    "cap = cv2.VideoCapture(0)\n",
    "while True:\n",
    "    ret, frame = cap.read()\n",
    "    if not ret:\n",
    "        break\n",
    "    # pretrianed cascade classifier\n",
    "    bounding_box = cv2.CascadeClassifier('./haarcascade_frontalface_default.xml') \n",
    "    gray_frame = cv2.cvtColor(frame, cv2.COLOR_BGR2GRAY)\n",
    "    # detect faces in each frame\n",
    "    num_faces = bounding_box.detectMultiScale(gray_frame,scaleFactor=1.3, minNeighbors=5)\n",
    "\n",
    "    for (x, y, w, h) in num_faces:\n",
    "        # draw rectangle\n",
    "        cv2.rectangle(frame, (x, y-50), (x+w, y+h+10), (255, 0, 0), 2)\n",
    "        roi_gray_frame = gray_frame[y:y + h, x:x + w]\n",
    "        cropped_img = np.expand_dims(np.expand_dims(cv2.resize(roi_gray_frame, (48, 48)), -1), 0)\n",
    "        # predict emotion\n",
    "        emotion_prediction = emotion_model.predict(cropped_img)\n",
    "        maxindex = int(np.argmax(emotion_prediction))\n",
    "        cv2.putText(frame, emotion_dict[maxindex], (x+20, y-60), cv2.FONT_HERSHEY_SIMPLEX, 1, (255, 255, 255), 2, cv2.LINE_AA)\n",
    "\n",
    "    cv2.imshow('Video', cv2.resize(frame,(1200,860),interpolation = cv2.INTER_CUBIC))\n",
    "    if cv2.waitKey(1) & 0xFF == ord('q'):\n",
    "        cap.release()\n",
    "        cv2.destroyAllWindows()\n",
    "        break"
   ]
  },
  {
   "cell_type": "code",
   "execution_count": 17,
   "metadata": {},
   "outputs": [
    {
     "data": {
      "text/plain": [
       "array([[222, 118, 201, 201]], dtype=int32)"
      ]
     },
     "execution_count": 17,
     "metadata": {},
     "output_type": "execute_result"
    }
   ],
   "source": []
  },
  {
   "cell_type": "code",
   "execution_count": 8,
   "metadata": {},
   "outputs": [
    {
     "name": "stdout",
     "output_type": "stream",
     "text": [
      "Defaulting to user installation because normal site-packages is not writeable\n",
      "Collecting opencv-contrib-python\n",
      "  Downloading opencv_contrib_python-4.5.1.48-cp38-cp38-manylinux2014_x86_64.whl (56.4 MB)\n",
      "\u001b[K     |████████████████████████████████| 56.4 MB 58 kB/s  eta 0:00:01    |█████                           | 8.8 MB 784 kB/s eta 0:01:01     |█████▏                          | 9.0 MB 784 kB/s eta 0:01:01     |███████▊                        | 13.6 MB 773 kB/s eta 0:00:56     |████████▎                       | 14.5 MB 710 kB/s eta 0:00:59     |█████████▋                      | 17.0 MB 299 kB/s eta 0:02:12     |██████████▊                     | 18.9 MB 587 kB/s eta 0:01:04     |███████████████████▉            | 35.0 MB 918 kB/s eta 0:00:24     |████████████████████▉           | 36.7 MB 459 kB/s eta 0:00:43     |██████████████████████████▍     | 46.5 MB 287 kB/s eta 0:00:35     |█████████████████████████████   | 51.0 MB 184 kB/s eta 0:00:29\n",
      "\u001b[?25hRequirement already satisfied: numpy>=1.17.3 in /home/aneeshashmi/.local/lib/python3.8/site-packages (from opencv-contrib-python) (1.18.5)\n",
      "Installing collected packages: opencv-contrib-python\n",
      "Successfully installed opencv-contrib-python-4.5.1.48\n"
     ]
    }
   ],
   "source": []
  },
  {
   "cell_type": "code",
   "execution_count": null,
   "metadata": {},
   "outputs": [],
   "source": []
  }
 ],
 "metadata": {
  "kernelspec": {
   "display_name": "Python 3",
   "language": "python",
   "name": "python3"
  },
  "language_info": {
   "codemirror_mode": {
    "name": "ipython",
    "version": 3
   },
   "file_extension": ".py",
   "mimetype": "text/x-python",
   "name": "python",
   "nbconvert_exporter": "python",
   "pygments_lexer": "ipython3",
   "version": "3.8.5"
  }
 },
 "nbformat": 4,
 "nbformat_minor": 4
}
